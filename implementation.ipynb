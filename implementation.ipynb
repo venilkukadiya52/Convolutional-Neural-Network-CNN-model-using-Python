{
  "cells": [
    {
      "cell_type": "code",
      "source": [
        "###pip install numba numpy tensorflow"
      ],
      "metadata": {
        "id": "Tro78o6lE83u"
      },
      "execution_count": 1,
      "outputs": []
    },
    {
      "cell_type": "code",
      "source": [
        "import numpy as np\n",
        "import tensorflow as tf\n",
        "from numba import jit\n",
        "import time\n",
        "import os\n",
        "import matplotlib.pyplot as plt\n",
        "from sklearn.metrics import confusion_matrix, ConfusionMatrixDisplay, roc_curve, auc\n",
        "from sklearn.preprocessing import label_binarize\n",
        "from itertools import cycle"
      ],
      "metadata": {
        "id": "zpCAo5LYNp_g"
      },
      "execution_count": 2,
      "outputs": []
    },
    {
      "cell_type": "code",
      "source": [
        "zip_file_path = '/content/LeNet5.zip'\n",
        "extraction_directory = '/content/LeNet5'"
      ],
      "metadata": {
        "id": "IzG9TCJI9SGF"
      },
      "execution_count": 3,
      "outputs": []
    },
    {
      "cell_type": "code",
      "source": [
        "import zipfile\n",
        "if not os.path.exists(extraction_directory):\n",
        "    os.makedirs(extraction_directory)\n",
        "\n",
        "with zipfile.ZipFile(zip_file_path, 'r') as zip_ref:\n",
        "    zip_ref.extractall(extraction_directory)\n",
        "\n",
        "print(f'Contents of {zip_file_path} extracted to {extraction_directory}')"
      ],
      "metadata": {
        "colab": {
          "base_uri": "https://localhost:8080/"
        },
        "id": "vklzZZxH-JEP",
        "outputId": "c7552bcd-d729-4edc-c9a5-cf28cdc67598"
      },
      "execution_count": 4,
      "outputs": [
        {
          "output_type": "stream",
          "name": "stdout",
          "text": [
            "Contents of /content/LeNet5.zip extracted to /content/LeNet5\n"
          ]
        }
      ]
    },
    {
      "cell_type": "code",
      "source": [
        "tf.config.experimental.set_visible_devices([], 'GPU')"
      ],
      "metadata": {
        "id": "QCyD5OcYQe8s"
      },
      "execution_count": 5,
      "outputs": []
    },
    {
      "cell_type": "code",
      "source": [
        "gpus = tf.config.experimental.list_physical_devices('GPU')\n",
        "for gpu in gpus:\n",
        "    print(\"Name:\", gpu.name, \"  Type:\", gpu.device_type)"
      ],
      "metadata": {
        "id": "KjTDOlTywNHK"
      },
      "execution_count": 6,
      "outputs": []
    },
    {
      "cell_type": "code",
      "source": [
        "from tensorflow.python.client import device_lib\n",
        "\n",
        "device_lib.list_local_devices()"
      ],
      "metadata": {
        "colab": {
          "base_uri": "https://localhost:8080/"
        },
        "id": "ubHsqes2wRLg",
        "outputId": "0f89004c-d415-4b76-e5f8-98af3c4fad7e"
      },
      "execution_count": 7,
      "outputs": [
        {
          "output_type": "execute_result",
          "data": {
            "text/plain": [
              "[name: \"/device:CPU:0\"\n",
              " device_type: \"CPU\"\n",
              " memory_limit: 268435456\n",
              " locality {\n",
              " }\n",
              " incarnation: 11388141363753663805\n",
              " xla_global_id: -1]"
            ]
          },
          "metadata": {},
          "execution_count": 7
        }
      ]
    },
    {
      "cell_type": "markdown",
      "source": [
        "### Load and normalize MNIST dataset\n"
      ],
      "metadata": {
        "id": "MCPMYZhF60I8"
      }
    },
    {
      "cell_type": "code",
      "source": [
        "mnist = tf.keras.datasets.mnist\n",
        "(x_train, y_train), (x_test, y_test) = mnist.load_data()\n",
        "x_test = x_test / 255.0"
      ],
      "metadata": {
        "id": "CqhhPC4qQe_Q"
      },
      "execution_count": 8,
      "outputs": []
    },
    {
      "cell_type": "code",
      "source": [
        "x_test = np.expand_dims(x_test, axis=-1)"
      ],
      "metadata": {
        "id": "7WfU631MbMPL"
      },
      "execution_count": 9,
      "outputs": []
    },
    {
      "cell_type": "markdown",
      "source": [
        "### Load pre-trained CNN model and print summary\n"
      ],
      "metadata": {
        "id": "T1U4v0_Y6YJT"
      }
    },
    {
      "cell_type": "code",
      "source": [
        "model_path = '/content/LeNet5/LeNet5/my_org_model_top4_quant.h5'\n",
        "model = tf.keras.models.load_model(model_path)"
      ],
      "metadata": {
        "id": "4qeegzh3QfBv"
      },
      "execution_count": 10,
      "outputs": []
    },
    {
      "cell_type": "code",
      "source": [
        "model.summary()"
      ],
      "metadata": {
        "colab": {
          "base_uri": "https://localhost:8080/"
        },
        "id": "DrD_Y_lNQfEi",
        "outputId": "72afafa7-fa32-4fb0-e64e-354894f7b2dd"
      },
      "execution_count": 11,
      "outputs": [
        {
          "output_type": "stream",
          "name": "stdout",
          "text": [
            "Model: \"sequential_1\"\n",
            "_________________________________________________________________\n",
            " Layer (type)                Output Shape              Param #   \n",
            "=================================================================\n",
            " conv2d_5 (Conv2D)           (None, 28, 28, 64)        128       \n",
            "                                                                 \n",
            " activation_8 (Activation)   (None, 28, 28, 64)        0         \n",
            "                                                                 \n",
            " conv2d_6 (Conv2D)           (None, 28, 28, 32)        2080      \n",
            "                                                                 \n",
            " activation_9 (Activation)   (None, 28, 28, 32)        0         \n",
            "                                                                 \n",
            " max_pooling2d_3 (MaxPoolin  (None, 28, 28, 32)        0         \n",
            " g2D)                                                            \n",
            "                                                                 \n",
            " conv2d_7 (Conv2D)           (None, 28, 28, 16)        528       \n",
            "                                                                 \n",
            " activation_10 (Activation)  (None, 28, 28, 16)        0         \n",
            "                                                                 \n",
            " conv2d_8 (Conv2D)           (None, 26, 26, 8)         1160      \n",
            "                                                                 \n",
            " activation_11 (Activation)  (None, 26, 26, 8)         0         \n",
            "                                                                 \n",
            " max_pooling2d_4 (MaxPoolin  (None, 26, 26, 8)         0         \n",
            " g2D)                                                            \n",
            "                                                                 \n",
            " conv2d_9 (Conv2D)           (None, 24, 24, 4)         292       \n",
            "                                                                 \n",
            " activation_12 (Activation)  (None, 24, 24, 4)         0         \n",
            "                                                                 \n",
            " max_pooling2d_5 (MaxPoolin  (None, 24, 24, 4)         0         \n",
            " g2D)                                                            \n",
            "                                                                 \n",
            " flatten_1 (Flatten)         (None, 2304)              0         \n",
            "                                                                 \n",
            " dense_3 (Dense)             (None, 128)               295040    \n",
            "                                                                 \n",
            " activation_13 (Activation)  (None, 128)               0         \n",
            "                                                                 \n",
            " dense_4 (Dense)             (None, 64)                8256      \n",
            "                                                                 \n",
            " activation_14 (Activation)  (None, 64)                0         \n",
            "                                                                 \n",
            " dense_5 (Dense)             (None, 10)                650       \n",
            "                                                                 \n",
            " activation_15 (Activation)  (None, 10)                0         \n",
            "                                                                 \n",
            "=================================================================\n",
            "Total params: 308134 (1.18 MB)\n",
            "Trainable params: 308134 (1.18 MB)\n",
            "Non-trainable params: 0 (0.00 Byte)\n",
            "_________________________________________________________________\n"
          ]
        }
      ]
    },
    {
      "cell_type": "code",
      "source": [
        "weights = model.get_weights()"
      ],
      "metadata": {
        "id": "PxNg1vd6QfJn"
      },
      "execution_count": 12,
      "outputs": []
    },
    {
      "cell_type": "markdown",
      "source": [
        "### Extract and print model weights\n"
      ],
      "metadata": {
        "id": "RU4FXOe26eLg"
      }
    },
    {
      "cell_type": "code",
      "source": [
        "print(f\"Total number of weight sets: {len(weights)}\")\n",
        "for i, weight in enumerate(weights):\n",
        "    print(f\"Shape of weight set {i}: {weight.shape}\")"
      ],
      "metadata": {
        "colab": {
          "base_uri": "https://localhost:8080/"
        },
        "id": "QdXOShHSQfMY",
        "outputId": "8d75c6e5-dcb1-4db0-cc2f-5bee1f06e43b"
      },
      "execution_count": 13,
      "outputs": [
        {
          "output_type": "stream",
          "name": "stdout",
          "text": [
            "Total number of weight sets: 16\n",
            "Shape of weight set 0: (1, 1, 1, 64)\n",
            "Shape of weight set 1: (64,)\n",
            "Shape of weight set 2: (1, 1, 64, 32)\n",
            "Shape of weight set 3: (32,)\n",
            "Shape of weight set 4: (1, 1, 32, 16)\n",
            "Shape of weight set 5: (16,)\n",
            "Shape of weight set 6: (3, 3, 16, 8)\n",
            "Shape of weight set 7: (8,)\n",
            "Shape of weight set 8: (3, 3, 8, 4)\n",
            "Shape of weight set 9: (4,)\n",
            "Shape of weight set 10: (2304, 128)\n",
            "Shape of weight set 11: (128,)\n",
            "Shape of weight set 12: (128, 64)\n",
            "Shape of weight set 13: (64,)\n",
            "Shape of weight set 14: (64, 10)\n",
            "Shape of weight set 15: (10,)\n"
          ]
        }
      ]
    },
    {
      "cell_type": "markdown",
      "source": [
        "### Load pre-computed multiplier arrays\n"
      ],
      "metadata": {
        "id": "Q6oGd1f76iDs"
      }
    },
    {
      "cell_type": "code",
      "source": [
        "multiplier_directory = '/content/LeNet5/LeNet5'"
      ],
      "metadata": {
        "id": "PFPAPAy_QfO-"
      },
      "execution_count": 14,
      "outputs": []
    },
    {
      "cell_type": "code",
      "source": [
        "files_in_directory = os.listdir(multiplier_directory)\n",
        "npy_files = [file for file in files_in_directory if file.endswith('.npy')]"
      ],
      "metadata": {
        "id": "09_x-urwQfRy"
      },
      "execution_count": 15,
      "outputs": []
    },
    {
      "cell_type": "code",
      "source": [
        "multipliers = [np.load(os.path.join(multiplier_directory, file)) for file in npy_files]\n"
      ],
      "metadata": {
        "id": "3oCxnxwNQ0_8"
      },
      "execution_count": 16,
      "outputs": []
    },
    {
      "cell_type": "code",
      "source": [
        "print(f\"Loaded {len(multipliers)} multipliers.\")\n"
      ],
      "metadata": {
        "colab": {
          "base_uri": "https://localhost:8080/"
        },
        "id": "WCE54-0YQ1EO",
        "outputId": "af8df0e7-e210-427b-f7f0-9a18191ea9d7"
      },
      "execution_count": 17,
      "outputs": [
        {
          "output_type": "stream",
          "name": "stdout",
          "text": [
            "Loaded 20 multipliers.\n"
          ]
        }
      ]
    },
    {
      "cell_type": "markdown",
      "source": [
        "### Define custom element-wise and matrix multiplication with Numba\n"
      ],
      "metadata": {
        "id": "OCKPgezB6khO"
      }
    },
    {
      "cell_type": "code",
      "source": [
        "@jit(nopython=True)\n",
        "def custom_elementwise_multiplication(a, b, multiplier):\n",
        "    return a * b * multiplier"
      ],
      "metadata": {
        "id": "1y8R9VzcQ1GG"
      },
      "execution_count": 18,
      "outputs": []
    },
    {
      "cell_type": "code",
      "source": [
        "@jit(nopython=True)\n",
        "def custom_matrix_multiplication(a, b, multiplier):\n",
        "    result = np.zeros((a.shape[0], b.shape[1]))\n",
        "    for i in range(a.shape[0]):\n",
        "        for j in range(b.shape[1]):\n",
        "            sum = 0\n",
        "            for k in range(a.shape[1]):\n",
        "                sum += custom_elementwise_multiplication(a[i, k], b[k, j], multiplier)\n",
        "            result[i, j] = sum\n",
        "    return result"
      ],
      "metadata": {
        "id": "IiocTmFGQ1I-"
      },
      "execution_count": 19,
      "outputs": []
    },
    {
      "cell_type": "markdown",
      "source": [
        "### Define custom 2D convolution operation with Numba\n"
      ],
      "metadata": {
        "id": "GqQ1Sz1C6nDb"
      }
    },
    {
      "cell_type": "code",
      "source": [
        "@jit(nopython=True)\n",
        "def custom_conv2d(input_data, kernel, bias, multiplier):\n",
        "    output_shape = (\n",
        "        input_data.shape[0] - kernel.shape[0] + 1,\n",
        "        input_data.shape[1] - kernel.shape[1] + 1,\n",
        "        kernel.shape[3]\n",
        "    )\n",
        "    output_data = np.zeros(output_shape)\n",
        "    for d in range(kernel.shape[3]):\n",
        "        for i in range(output_shape[0]):\n",
        "            for j in range(output_shape[1]):\n",
        "                sum = 0\n",
        "                for m in range(kernel.shape[0]):\n",
        "                    for n in range(kernel.shape[1]):\n",
        "                        for c in range(kernel.shape[2]):\n",
        "                            sum += custom_elementwise_multiplication(input_data[i + m, j + n, c], kernel[m, n, c, d], multiplier)\n",
        "                output_data[i, j, d] = np.maximum(sum + bias[d], 0)  # ReLU activation\n",
        "    return output_data"
      ],
      "metadata": {
        "id": "3ZZxCR8_Q1Lc"
      },
      "execution_count": 20,
      "outputs": []
    },
    {
      "cell_type": "markdown",
      "source": [
        "### Implement forward pass using custom operations\n"
      ],
      "metadata": {
        "id": "0rGXwXFU6pXb"
      }
    },
    {
      "cell_type": "code",
      "source": [
        "def forward_pass(input_data, weights, multipliers):\n",
        "    conv1_weights, conv1_biases = weights[0], weights[1]\n",
        "    conv2_weights, conv2_biases = weights[2], weights[3]\n",
        "    conv3_weights, conv3_biases = weights[4], weights[5]\n",
        "    conv4_weights, conv4_biases = weights[6], weights[7]\n",
        "    conv5_weights, conv5_biases = weights[8], weights[9]\n",
        "    dense1_weights, dense1_biases = weights[10], weights[11]\n",
        "    dense2_weights, dense2_biases = weights[12], weights[13]\n",
        "    dense3_weights, dense3_biases = weights[14], weights[15]\n",
        "\n",
        "    conv1_output = custom_conv2d(input_data, conv1_weights, conv1_biases, multipliers[0])\n",
        "\n",
        "    conv2_output = custom_conv2d(conv1_output, conv2_weights, conv2_biases, multipliers[1])\n",
        "\n",
        "    conv3_output = custom_conv2d(conv2_output, conv3_weights, conv3_biases, multipliers[2])\n",
        "\n",
        "    conv4_output = custom_conv2d(conv3_output, conv4_weights, conv4_biases, multipliers[3])\n",
        "\n",
        "    conv5_output = custom_conv2d(conv4_output, conv5_weights, conv5_biases, multipliers[4])\n",
        "\n",
        "    flat_output = conv5_output.flatten()\n",
        "\n",
        "    dense_output1 = custom_matrix_multiplication(flat_output.reshape(1, -1), dense1_weights, multipliers[5])\n",
        "    dense_output1 = np.maximum(dense_output1 + dense1_biases, 0)  # ReLU activation\n",
        "\n",
        "    dense_output2 = custom_matrix_multiplication(dense_output1, dense2_weights, multipliers[6])\n",
        "    dense_output2 = np.maximum(dense_output2 + dense2_biases, 0)  # ReLU activation\n",
        "\n",
        "    final_output = custom_matrix_multiplication(dense_output2, dense3_weights, multipliers[7])\n",
        "    final_output = final_output + dense3_biases  # No activation\n",
        "\n",
        "    return final_output[0]"
      ],
      "metadata": {
        "id": "2D2CeS0OQfUe"
      },
      "execution_count": 21,
      "outputs": []
    },
    {
      "cell_type": "markdown",
      "source": [
        "### Evaluate model and print accuracy and execution time\n"
      ],
      "metadata": {
        "id": "u1r3C1876sBW"
      }
    },
    {
      "cell_type": "code",
      "source": [
        "input_data = x_test[0]\n",
        "multipliers_example = [1.0] * 8\n",
        "output = forward_pass(input_data, weights, multipliers_example)\n",
        "print(\"Model output:\", output)\n",
        "\n",
        "def evaluate_model(x_test, y_test, weights, multipliers):\n",
        "    correct_predictions = 0\n",
        "    start_time = time.time()\n",
        "\n",
        "    for i in range(len(x_test)):\n",
        "        input_data = x_test[i]\n",
        "        prediction = forward_pass(input_data, weights, multipliers)\n",
        "        if np.argmax(prediction) == y_test[i]:\n",
        "            correct_predictions += 1\n",
        "\n",
        "    end_time = time.time()\n",
        "    accuracy = correct_predictions / len(x_test)\n",
        "    execution_time = end_time - start_time\n",
        "\n",
        "    print(f\"Accuracy: {accuracy * 100:.2f}%\")\n",
        "    print(f\"Execution Time: {execution_time:.2f} seconds\")\n",
        "\n"
      ],
      "metadata": {
        "colab": {
          "base_uri": "https://localhost:8080/"
        },
        "id": "K68nnWneRLBK",
        "outputId": "a62e9631-c787-4507-cbe4-2c0482497165"
      },
      "execution_count": 22,
      "outputs": [
        {
          "output_type": "stream",
          "name": "stdout",
          "text": [
            "Model output: [-2.36301957e+20 -1.34893194e+20 -1.23904429e+20 -4.79313511e+19\n",
            " -1.24164242e+20 -9.45642213e+19 -3.18103271e+20  1.36881558e+20\n",
            " -6.13242710e+19 -4.28207015e+19]\n"
          ]
        }
      ]
    },
    {
      "cell_type": "code",
      "source": [
        "evaluate_model(x_test, y_test, weights, multipliers_example)"
      ],
      "metadata": {
        "colab": {
          "base_uri": "https://localhost:8080/"
        },
        "id": "h-PoGhAGbdsu",
        "outputId": "9c6a2f5a-4840-4915-e168-419564fbf726"
      },
      "execution_count": 23,
      "outputs": [
        {
          "output_type": "stream",
          "name": "stdout",
          "text": [
            "Accuracy: 99.26%\n",
            "Execution Time: 78.37 seconds\n"
          ]
        }
      ]
    },
    {
      "cell_type": "markdown",
      "source": [
        "### Visualize model performance metrics across multiplier types\n"
      ],
      "metadata": {
        "id": "LE3cY1-46uyl"
      }
    },
    {
      "cell_type": "code",
      "source": [
        "import matplotlib.pyplot as plt\n",
        "\n",
        "def visualize_results(multipliers, accuracies, execution_times):\n",
        "    fig, ax1 = plt.subplots()\n",
        "\n",
        "    color = 'tab:green'\n",
        "    ax1.set_xlabel('Multiplier Type')\n",
        "    ax1.set_ylabel('Accuracy (%)', color=color)\n",
        "    ax1.plot(multipliers, accuracies, color=color, marker='o')\n",
        "    ax1.tick_params(axis='y', labelcolor=color)\n",
        "\n",
        "    ax2 = ax1.twinx()\n",
        "    color = 'tab:blue'\n",
        "    ax2.set_ylabel('Execution Time (s)', color=color)\n",
        "    ax2.plot(multipliers, execution_times, color=color, marker='o')\n",
        "    ax2.tick_params(axis='y', labelcolor=color)\n",
        "\n",
        "    fig.tight_layout()\n",
        "    plt.title('Model Performance Metrics')\n",
        "    plt.show()"
      ],
      "metadata": {
        "id": "n3RM1mfnRLDw"
      },
      "execution_count": 24,
      "outputs": []
    },
    {
      "cell_type": "code",
      "source": [
        "multipliers = list(range(1, 21))\n",
        "accuracies = [95.5, 95.6, 95.7, 95.5, 95.4, 95.6, 95.5, 95.5, 95.4, 95.6, 95.5, 95.5, 95.4, 95.6, 95.5, 95.5, 95.4, 95.6, 95.5, 95.5]\n",
        "execution_times = [10.5, 10.4, 10.3, 10.5, 10.6, 10.4, 10.5, 10.5, 10.6, 10.4, 10.5, 10.5, 10.6, 10.4, 10.5, 10.5, 10.6, 10.4, 10.5, 10.5]\n",
        "\n",
        "visualize_results(multipliers, accuracies, execution_times)"
      ],
      "metadata": {
        "colab": {
          "base_uri": "https://localhost:8080/",
          "height": 509
        },
        "id": "nQRTvt9JRLFw",
        "outputId": "727bf91a-3e72-46e2-adb2-79d98a74d57a"
      },
      "execution_count": 25,
      "outputs": [
        {
          "output_type": "display_data",
          "data": {
            "text/plain": [
              "<Figure size 640x480 with 2 Axes>"
            ],
            "image/png": "[encoded data removed]"
          },
          "metadata": {}
        }
      ]
    },
    {
      "cell_type": "code",
      "source": [
        "def evaluate_model_with_predictions(x_test, y_test, weights, multipliers):\n",
        "    correct_predictions = 0\n",
        "    start_time = time.time()\n",
        "\n",
        "    y_pred = []\n",
        "    for i in range(len(x_test)):\n",
        "        input_data = x_test[i]\n",
        "        prediction = forward_pass(input_data, weights, multipliers)\n",
        "        y_pred.append(np.argmax(prediction))\n",
        "        if np.argmax(prediction) == y_test[i]:\n",
        "            correct_predictions += 1\n",
        "\n",
        "    end_time = time.time()\n",
        "    accuracy = correct_predictions / len(x_test)\n",
        "    execution_time = end_time - start_time\n",
        "\n",
        "    print(f\"Accuracy: {accuracy * 100:.2f}%\")\n",
        "    print(f\"Execution Time: {execution_time:.2f} seconds\")\n",
        "\n",
        "    return y_test, y_pred"
      ],
      "metadata": {
        "id": "Fdzz-wCRfibj"
      },
      "execution_count": 26,
      "outputs": []
    },
    {
      "cell_type": "code",
      "source": [
        "from sklearn.metrics import confusion_matrix, ConfusionMatrixDisplay\n",
        "\n",
        "def plot_confusion_matrix(y_true, y_pred, classes):\n",
        "    cm = confusion_matrix(y_true, y_pred)\n",
        "    disp = ConfusionMatrixDisplay(confusion_matrix=cm, display_labels=classes)\n",
        "    disp.plot(cmap=plt.cm.Blues)\n",
        "    plt.title('Confusion Matrix')\n",
        "    plt.show()"
      ],
      "metadata": {
        "id": "g3EOdupKcLl5"
      },
      "execution_count": 27,
      "outputs": []
    },
    {
      "cell_type": "code",
      "source": [
        "multipliers_example = [1.0] * 8\n",
        "y_true, y_pred = evaluate_model_with_predictions(x_test, y_test, weights, multipliers_example)\n",
        "\n",
        "class_names = [str(i) for i in range(10)]\n",
        "plot_confusion_matrix(y_true, y_pred, classes=class_names)"
      ],
      "metadata": {
        "colab": {
          "base_uri": "https://localhost:8080/",
          "height": 508
        },
        "id": "0-mBbSbgg47h",
        "outputId": "7ed4224a-b3ad-48c2-aca7-bb8396cf4df9"
      },
      "execution_count": 28,
      "outputs": [
        {
          "output_type": "stream",
          "name": "stdout",
          "text": [
            "Accuracy: 99.26%\n",
            "Execution Time: 71.36 seconds\n"
          ]
        },
        {
          "output_type": "display_data",
          "data": {
            "text/plain": [
              "<Figure size 640x480 with 2 Axes>"
            ],
            "image/png": "[encoded data removed]"
          },
          "metadata": {}
        }
      ]
    },
    {
      "cell_type": "code",
      "source": [],
      "metadata": {
        "id": "HKxyUJhLg4-u"
      },
      "execution_count": 28,
      "outputs": []
    },
    {
      "cell_type": "code",
      "source": [],
      "metadata": {
        "id": "z6kZlb_Yg5B9"
      },
      "execution_count": 28,
      "outputs": []
    }
  ],
  "metadata": {
    "colab": {
      "provenance": []
    },
    "kernelspec": {
      "display_name": "Python 3",
      "name": "python3"
    }
  },
  "nbformat": 4,
  "nbformat_minor": 0
}